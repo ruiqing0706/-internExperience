{
 "cells": [
  {
   "cell_type": "code",
   "execution_count": 1,
   "metadata": {},
   "outputs": [],
   "source": [
    "# -*- coding: utf-8 -*-\n",
    "# author: JiRuiqing\n",
    "# email: ruiqing0706@gmail.com\n",
    "\n",
    "import requests\n",
    "from bs4 import BeautifulSoup\n",
    "\n",
    "url_base = 'https://www.douban.com/group/zhufang/discussion?start='\n",
    "for i in range(1):\n",
    "    url = url_base + str(i+1)\n",
    "    r = requests.get(url)\n",
    "    r.encoding = 'utf-8'\n",
    "    bsHtml5 = BeautifulSoup(r.text, \"html5lib\")\n",
    "    for prov in bsHtml5.select('td.title > a'):\n",
    "        print prov.text + \"\\n\\t\" + prov.get('href')"
   ]
  },
  {
   "cell_type": "code",
   "execution_count": null,
   "metadata": {},
   "outputs": [],
   "source": [
    "# IP被封喽。。。"
   ]
  }
 ],
 "metadata": {
  "kernelspec": {
   "display_name": "Python 2",
   "language": "python",
   "name": "python2"
  },
  "language_info": {
   "codemirror_mode": {
    "name": "ipython",
    "version": 2
   },
   "file_extension": ".py",
   "mimetype": "text/x-python",
   "name": "python",
   "nbconvert_exporter": "python",
   "pygments_lexer": "ipython2",
   "version": "2.7.13"
  }
 },
 "nbformat": 4,
 "nbformat_minor": 2
}
