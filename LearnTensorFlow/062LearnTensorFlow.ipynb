{
 "cells": [
  {
   "cell_type": "markdown",
   "metadata": {},
   "source": [
    "# TensorFlow实现VGGNet-16"
   ]
  },
  {
   "cell_type": "code",
   "execution_count": 1,
   "metadata": {},
   "outputs": [],
   "source": [
    "# -*- coding: utf-8 -*-\n",
    "# author: JiRuiqing\n",
    "# email: ruiqing0706@gmail.com\n",
    "\n",
    "# 导包\n",
    "from datetime import datetime\n",
    "import math\n",
    "import time\n",
    "import tensorflow as tf"
   ]
  },
  {
   "cell_type": "code",
   "execution_count": 2,
   "metadata": {},
   "outputs": [],
   "source": [
    "# 设定batch大小和数量\n",
    "batch_size = 32\n",
    "num_batches = 100"
   ]
  },
  {
   "cell_type": "code",
   "execution_count": 3,
   "metadata": {},
   "outputs": [],
   "source": [
    "# 创建卷积层并把本层的参数存入参数列表\n",
    "def conv_op(input_op, name, kh, kw, n_out, dh, dw, p):\n",
    "    n_in = input_op.get_shape()[-1].value\n",
    "    \n",
    "    with tf.name_scope(name) as scope:\n",
    "        kernel = tf.get_variable(scope+\"w\", shape=[kh, kw, n_in, n_out], dtype=tf.float32, initializer=tf.contrib.layers.xavier_initializer_conv2d())\n",
    "        \n",
    "        conv = tf.nn.conv2d(input_op, kernel, (1, dh, dw, 1), padding='SAME')\n",
    "        bias_init_val = tf.constant(0.0, shape=[n_out], dtype=tf.float32)\n",
    "        biases = tf.Variable(bias_init_val, trainable=True, name='b')\n",
    "        z = tf.nn.bias_add(conv, biases)\n",
    "        activation = tf.nn.relu(z, name=scope)\n",
    "        p += [kernel, biases]\n",
    "        \n",
    "        return activation"
   ]
  },
  {
   "cell_type": "code",
   "execution_count": 4,
   "metadata": {},
   "outputs": [],
   "source": [
    "# 创建全连接层并把本层的参数存入参数列表\n",
    "def fc_op(input_op, name, n_out, p):\n",
    "    n_in = input_op.get_shape()[-1].value\n",
    "    \n",
    "    with tf.name_scope(name) as scope:\n",
    "        kernel = tf.get_variable(scope+\"w\", shape=[n_in, n_out], dtype=tf.float32, initializer=tf.contrib.layers.xavier_initializer())\n",
    "        biases = tf.Variable(tf.constant(0.1, shape=[n_out], dtype=tf.float32), name='b')\n",
    "        activation = tf.nn.relu_layer(input_op, kernel, biases, name=scope)\n",
    "        p += [kernel, biases]\n",
    "        return activation"
   ]
  },
  {
   "cell_type": "code",
   "execution_count": 5,
   "metadata": {},
   "outputs": [],
   "source": [
    "# 创建最大池化层\n",
    "def mpool_op(input_op, name, kh, kw, dh, dw):\n",
    "    return tf.nn.max_pool(input_op, ksize=[1, kh, kw, 1], strides=[1, dh,dw, 1], padding='SAME', name=name)"
   ]
  },
  {
   "cell_type": "code",
   "execution_count": 6,
   "metadata": {},
   "outputs": [],
   "source": [
    "# 创建VGGNet-16的网络结构\n",
    "# 6部分，前5段为卷积网络，最后一段是全连接网络\n",
    "def inference_op(input_op, keep_prob):\n",
    "    \n",
    "    p = []\n",
    "    \n",
    "    # 第一段卷积网络（两个卷积层+一个最大池化层）\n",
    "    conv1_1 = conv_op(input_op, name=\"conv1_1\", kh=3, kw=3, n_out=64, dh=1, dw=1, p=p)\n",
    "    \n",
    "    conv1_2 = conv_op(conv1_1, name=\"conv1_2\", kh=3, kw=3, n_out=64, dh=1, dw=1, p=p)\n",
    "    \n",
    "    pool1 = mpool_op(conv1_2, name=\"pool1\", kh=2, kw=2, dw=2, dh=2)\n",
    "    \n",
    "    # 第二段卷积网络（两个卷积层+一个最大池化层）\n",
    "    conv2_1 = conv_op(pool1, name=\"conv2_1\", kh=3, kw=3, n_out=128, dh=1, dw=1, p=p)\n",
    "    \n",
    "    conv2_2 = conv_op(conv2_1, name=\"conv2_2\", kh=3, kw=3, n_out=128, dh=1, dw=1, p=p)\n",
    "    \n",
    "    pool2 = mpool_op(conv2_2, name=\"pool2\", kh=2, kw=2, dw=2, dh=2)\n",
    "    \n",
    "    # 第三段卷积网络（三个卷积层+一个最大池化层）\n",
    "    conv3_1 = conv_op(pool2, name=\"conv3_1\", kh=3, kw=3, n_out=256, dh=1, dw=1, p=p)\n",
    "    \n",
    "    conv3_2 = conv_op(conv3_1, name=\"conv3_2\", kh=3, kw=3, n_out=256, dh=1, dw=1, p=p)\n",
    "    \n",
    "    conv3_3 = conv_op(conv3_2, name=\"conv3_3\", kh=3, kw=3, n_out=256, dh=1, dw=1, p=p)\n",
    "    \n",
    "    pool3 = mpool_op(conv3_3, name=\"pool3\", kh=2, kw=2, dw=2, dh=2)\n",
    "    \n",
    "    # 第四段卷积网络（三个卷积层+一个最大池化层）\n",
    "    conv4_1 = conv_op(pool3, name=\"conv4_1\", kh=3, kw=3, n_out=512, dh=1, dw=1, p=p)\n",
    "    \n",
    "    conv4_2 = conv_op(conv4_1, name=\"conv4_2\", kh=3, kw=3, n_out=512, dh=1, dw=1, p=p)\n",
    "    \n",
    "    conv4_3 = conv_op(conv4_2, name=\"conv4_3\", kh=3, kw=3, n_out=512, dh=1, dw=1, p=p)\n",
    "    \n",
    "    pool4 = mpool_op(conv4_3, name=\"pool4\", kh=2, kw=2, dw=2, dh=2)\n",
    "    \n",
    "    # 第五段卷积网络（三个卷积层+一个最大池化层）\n",
    "    conv5_1 = conv_op(pool4, name=\"conv5_1\", kh=3, kw=3, n_out=512, dh=1, dw=1, p=p)\n",
    "    \n",
    "    conv5_2 = conv_op(conv5_1, name=\"conv5_2\", kh=3, kw=3, n_out=512, dh=1, dw=1, p=p)\n",
    "    \n",
    "    conv5_3 = conv_op(conv5_2, name=\"conv5_3\", kh=3, kw=3, n_out=512, dh=1, dw=1, p=p)\n",
    "    \n",
    "    pool5 = mpool_op(conv5_3, name=\"pool5\", kh=2, kw=2, dw=2, dh=2)\n",
    "    \n",
    "    # 扁平化\n",
    "    shp = pool5.get_shape()\n",
    "    flattend_shape = shp[1].value * shp[2].value * shp[3].value\n",
    "    resh1 = tf.reshape(pool5, [-1, flattend_shape], name=\"resh1\")\n",
    "    \n",
    "    # 全连接层\n",
    "    fc6 = fc_op(resh1, name=\"fc6\", n_out=4096, p=p)\n",
    "    fc6_drop = tf.nn.dropout(fc6, keep_prob, name=\"fc6_drop\")\n",
    "    \n",
    "    # 全连接层\n",
    "    fc7 = fc_op(fc6_drop, name=\"fc7\", n_out=4096, p=p)\n",
    "    fc7_drop = tf.nn.dropout(fc7, keep_prob, name=\"fc7_drop\")\n",
    "    \n",
    "    # 全连接层\n",
    "    fc8 = fc_op(fc7_drop, name=\"fc8\", n_out=1000, p=p)\n",
    "    softmax = tf.nn.softmax(fc8)\n",
    "    predictions = tf.argmax(softmax, 1)\n",
    "    return predictions, softmax, fc8, p"
   ]
  },
  {
   "cell_type": "code",
   "execution_count": 7,
   "metadata": {},
   "outputs": [],
   "source": [
    "def time_tensorflow_run(session, target, feed, info_string):\n",
    "    num_steps_burn_in = 10\n",
    "    total_duration = 0.0\n",
    "    total_duration_squared = 0.0\n",
    "    for i in range(num_batches + num_steps_burn_in):\n",
    "        start_time = time.time()\n",
    "        _ = session.run(target, feed_dict=feed)\n",
    "        duration = time.time() - start_time\n",
    "        if i >= num_steps_burn_in:\n",
    "            if not i % 10:\n",
    "                print('%s: step %d, duration = %.3f' % (datetime.now(), i - num_steps_burn_in, duration))\n",
    "            total_duration += duration\n",
    "            total_duration_squared += duration * duration\n",
    "    mn = total_duration / num_batches\n",
    "    vr = total_duration_squared / num_batches - mn * mn\n",
    "    sd = math.sqrt(vr)\n",
    "    print('%s: %s across %d steps, %.3f +/- %.3f sec / batch' % (datetime.now(), info_string, num_batches, mn, sd))"
   ]
  },
  {
   "cell_type": "code",
   "execution_count": 8,
   "metadata": {},
   "outputs": [],
   "source": [
    "def run_benchmark():\n",
    "    with tf.Graph().as_default():\n",
    "        image_size = 224\n",
    "        images = tf.Variable(tf.random_normal([batch_size, image_size, image_size, 3], dtype=tf.float32, stddev=1e-1))\n",
    "        \n",
    "        keep_prob = tf.placeholder(tf.float32)\n",
    "        predictitons, softmax, fc8, p = inference_op(images, keep_prob)\n",
    "\n",
    "        init = tf.global_variables_initializer()\n",
    "        session = tf.Session()\n",
    "        session.run(init)\n",
    "\n",
    "        time_tensorflow_run(session, predictitons, {keep_prob: 1.0}, \"Forward\")\n",
    "        objective = tf.nn.l2_loss(fc8)\n",
    "        grad = tf.gradients(objective, p)\n",
    "        time_tensorflow_run(session, grad, {keep_prob: 0.5}, \"Forward-backward\")"
   ]
  },
  {
   "cell_type": "code",
   "execution_count": 9,
   "metadata": {},
   "outputs": [
    {
     "name": "stdout",
     "output_type": "stream",
     "text": [
      "2018-01-19 16:28:14.398589: step 0, duration = 14.021\n",
      "2018-01-19 16:30:32.277283: step 10, duration = 13.387\n",
      "2018-01-19 16:32:49.219888: step 20, duration = 13.161\n",
      "2018-01-19 16:35:04.952831: step 30, duration = 13.556\n",
      "2018-01-19 16:37:23.795569: step 40, duration = 13.383\n",
      "2018-01-19 16:39:40.281704: step 50, duration = 13.352\n",
      "2018-01-19 16:41:56.979544: step 60, duration = 13.246\n",
      "2018-01-19 16:44:14.371298: step 70, duration = 13.211\n",
      "2018-01-19 16:46:31.384928: step 80, duration = 13.174\n",
      "2018-01-19 16:48:51.296200: step 90, duration = 12.871\n",
      "2018-01-19 16:50:42.404611: Forward across 100 steps, 13.620 +/- 0.694 sec / batch\n",
      "2018-01-19 16:58:11.195086: step 0, duration = 40.840\n",
      "2018-01-19 17:05:02.237899: step 10, duration = 40.647\n",
      "2018-01-19 17:11:56.171011: step 20, duration = 40.356\n",
      "2018-01-19 17:18:42.450428: step 30, duration = 39.721\n",
      "2018-01-19 17:25:32.224042: step 40, duration = 46.004\n",
      "2018-01-19 17:32:48.125232: step 50, duration = 41.379\n",
      "2018-01-19 17:39:42.515656: step 60, duration = 41.141\n",
      "2018-01-19 17:46:39.086702: step 70, duration = 41.285\n",
      "2018-01-19 17:54:14.678142: step 80, duration = 42.821\n",
      "2018-01-19 18:01:21.612134: step 90, duration = 43.173\n",
      "2018-01-19 18:07:51.422242: Forward-backward across 100 steps, 42.211 +/- 2.674 sec / batch\n"
     ]
    }
   ],
   "source": [
    "run_benchmark()"
   ]
  },
  {
   "cell_type": "code",
   "execution_count": null,
   "metadata": {},
   "outputs": [],
   "source": []
  }
 ],
 "metadata": {
  "kernelspec": {
   "display_name": "Python 2",
   "language": "python",
   "name": "python2"
  },
  "language_info": {
   "codemirror_mode": {
    "name": "ipython",
    "version": 2
   },
   "file_extension": ".py",
   "mimetype": "text/x-python",
   "name": "python",
   "nbconvert_exporter": "python",
   "pygments_lexer": "ipython2",
   "version": "2.7.13"
  }
 },
 "nbformat": 4,
 "nbformat_minor": 2
}
