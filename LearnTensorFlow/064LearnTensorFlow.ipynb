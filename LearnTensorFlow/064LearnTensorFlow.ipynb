{
 "cells": [
  {
   "cell_type": "markdown",
   "metadata": {},
   "source": [
    "# TensorFlow实现ResNet V2"
   ]
  },
  {
   "cell_type": "code",
   "execution_count": 1,
   "metadata": {},
   "outputs": [],
   "source": [
    "# -*- coding: utf-8 -*-\n",
    "# author: JiRuiqing\n",
    "# email: ruiqing0706@gmail.com\n",
    "\n",
    "# 导包\n",
    "from datetime import datetime\n",
    "import time, math\n",
    "import collections\n",
    "import tensorflow as tf\n",
    "slim = tf.contrib.slim"
   ]
  },
  {
   "cell_type": "code",
   "execution_count": 2,
   "metadata": {},
   "outputs": [],
   "source": [
    "# 创建Block类\n",
    "class Block(collections.namedtuple('Block', ['scope', 'unit_fn', 'args'])):\n",
    "    'A named tuple describing a ResNet block.'"
   ]
  },
  {
   "cell_type": "code",
   "execution_count": 3,
   "metadata": {},
   "outputs": [],
   "source": [
    "# 数据降采样\n",
    "def subsample(inputs, factor, scope=None):\n",
    "    if factor == 1:\n",
    "        return inputs\n",
    "    else:\n",
    "        return slim.max_pool2d(inputs, [1, 1], stride=factor, scope=scope)"
   ]
  },
  {
   "cell_type": "code",
   "execution_count": 4,
   "metadata": {},
   "outputs": [],
   "source": [
    "# 创建卷积层\n",
    "def conv2d_same(inputs, num_outputs, kernel_size, stride, scope=None):\n",
    "    if stride == 1:\n",
    "        return slim.conv2d(inputs, num_outputs, kernel_size, stride=1, padding='SAME', scope=scope)\n",
    "    else:\n",
    "        pad_total = kernel_size - 1\n",
    "        pad_beg = pad_total // 2\n",
    "        pad_end = pad_total - pad_beg\n",
    "        inputs = tf.pad(inputs, [[0 , 0], [pad_beg, pad_end], [pad_beg, pad_end], [0, 0]])\n",
    "        return slim.conv2d(inputs, num_outputs, kernel_size, stride=stride, padding='VALID', scope=scope)"
   ]
  },
  {
   "cell_type": "code",
   "execution_count": 5,
   "metadata": {},
   "outputs": [],
   "source": [
    "# 堆叠Block\n",
    "@slim.add_arg_scope\n",
    "def stack_blocks_dense(net, blocks, outputs_collections=None):\n",
    "    for block in blocks:\n",
    "        with tf.variable_scope(block.scope, 'block', [net]) as sc:\n",
    "            for i, unit in enumerate(block.args):\n",
    "                with tf.variable_scope('unit_%d' % (i + 1), values=[net]):\n",
    "                    unit_depth, unit_depth_bottleneck, unit_stride = unit\n",
    "                    net = block.unit_fn(net, depth=unit_depth, depth_bottleneck=unit_depth_bottleneck, stride=unit_stride)\n",
    "            net = slim.utils.collect_named_outputs(outputs_collections, sc.name, net)\n",
    "    return net"
   ]
  },
  {
   "cell_type": "code",
   "execution_count": 6,
   "metadata": {},
   "outputs": [],
   "source": [
    "# 创建ResNet通用的arg_scope\n",
    "def resnet_arg_scope(is_training=True, weight_decay=0.0001, batch_norm_decay=0.997, batch_norm_epsilon=1e-5, batch_norm_scale=True):\n",
    "    batch_norm_params = {\n",
    "        'is_training': is_training,\n",
    "        'decay': batch_norm_decay,\n",
    "        'epsilon': batch_norm_epsilon,\n",
    "        'scale': batch_norm_scale,\n",
    "        'updates_collections': tf.GraphKeys.UPDATE_OPS,\n",
    "        \n",
    "    }\n",
    "    with slim.arg_scope([slim.conv2d],\n",
    "                       weights_regularizer=slim.l2_regularizer(weight_decay),\n",
    "                       weights_initializer=slim.variance_scaling_initializer(),\n",
    "                       activation_fn=tf.nn.relu,\n",
    "                       normalizer_fn=slim.batch_norm,\n",
    "                       normalizer_params=batch_norm_params):\n",
    "        with slim.arg_scope([slim.batch_norm], **batch_norm_params):\n",
    "            with slim.arg_scope([slim.max_pool2d], padding='SAME') as arg_sc:\n",
    "                return arg_sc"
   ]
  },
  {
   "cell_type": "code",
   "execution_count": 7,
   "metadata": {},
   "outputs": [],
   "source": [
    "@slim.add_arg_scope\n",
    "def bottleneck(inputs, depth, depth_bottleneck, stride, outputs_collections=None, scope=None):\n",
    "    '''\n",
    "    args\n",
    "    inputs: 输入\n",
    "    depth depth_bottleneck stride: Blocks类中的args\n",
    "    outputs_collections: 收集end_points的collection\n",
    "    scope: unit的名称\n",
    "    '''\n",
    "    with tf.variable_scope(scope, 'bottleneck_v2', [inputs]) as sc:\n",
    "        depth_in = slim.utils.last_dimension(inputs.get_shape(), min_rank=4)\n",
    "        preact = slim.batch_norm(inputs, activation_fn=tf.nn.relu, scope='preact')\n",
    "        \n",
    "        if depth == depth_in:\n",
    "            shortcut = subsample(inputs, stride, 'shortcut')\n",
    "        else:\n",
    "            shortcut = slim.conv2d(preact, depth, [1, 1], stride=stride, normalizer_fn=None, activation_fn=None, scope='shortcut')\n",
    "            \n",
    "        residual = slim.conv2d(preact, depth_bottleneck, [1, 1], stride=1, scope='conv1')\n",
    "        residual = conv2d_same(residual, depth_bottleneck, 3, stride, scope='conv2')\n",
    "        residual = slim.conv2d(residual, depth, [1, 1], stride=1, normalizer_fn=None, activation_fn=None, scope='conv3')\n",
    "        \n",
    "        output = shortcut + residual\n",
    "        \n",
    "        return slim.utils.collect_named_outputs(outputs_collections, sc.name, output)"
   ]
  },
  {
   "cell_type": "code",
   "execution_count": 8,
   "metadata": {},
   "outputs": [],
   "source": [
    "# 定义生成ResNet V2的主函数\n",
    "def resnet_v2(inputs,\n",
    "              blocks,\n",
    "              num_classes=None,\n",
    "              global_pool=True,\n",
    "              include_root_block=True,\n",
    "              reuse=None,\n",
    "              scope=None):\n",
    "    \n",
    "    with tf.variable_scope(scope, 'resnet_v2', [inputs], reuse=reuse) as sc:\n",
    "        end_points_collection = sc.original_name_scope + '_end_points'\n",
    "        with slim.arg_scope([slim.conv2d, bottleneck, stack_blocks_dense], outputs_collections=end_points_collection):\n",
    "            net = inputs\n",
    "            \n",
    "            if include_root_block:\n",
    "                with slim.arg_scope([slim.conv2d], activation_fn=None, normalizer_fn=None):\n",
    "                    net = conv2d_same(net, 64, 7, stride=2, scope='conv1')\n",
    "                net = slim.max_pool2d(net, [3, 3], stride=2, scope='pool1')\n",
    "            net = stack_blocks_dense(net, blocks)\n",
    "            net = slim.batch_norm(net, activation_fn=tf.nn.relu, scope='postnorm')\n",
    "            if global_pool:\n",
    "                net = tf.reduce_mean(net, [1, 2], name='pool5', keep_dims=True)\n",
    "            if num_classes is not None:\n",
    "                net = slim.conv2d(net, num_classes, [1, 1], activation_fn=None, normalizer_fn=None, scope='logits')\n",
    "            end_points = slim.utils.convert_collection_to_dict(end_points_collection)\n",
    "            if num_classes is not None:\n",
    "                end_points['predictions'] = slim.softmax(net, scope='predictions')\n",
    "            return net, end_points"
   ]
  },
  {
   "cell_type": "code",
   "execution_count": 9,
   "metadata": {},
   "outputs": [],
   "source": [
    "# 50层的ResNet\n",
    "def resnet_v2_50(inputs,\n",
    "                 num_classes=None,\n",
    "                 global_pool=True,\n",
    "                 reuse=None,\n",
    "                 scope='resnet_v2_50'):\n",
    "    blocks = [\n",
    "        Block('block1', bottleneck, [(256, 64, 1)] * 2 + [(256, 64, 2)]),\n",
    "        Block('block2', bottleneck, [(512, 128, 1)] * 3 + [(512, 128, 2)]),\n",
    "        Block('block3', bottleneck, [(1024, 256, 1)] * 5 + [(1024, 256, 2)]),\n",
    "        Block('block4', bottleneck, [(2048, 512, 1)] * 3)]\n",
    "    return resnet_v2(inputs, blocks, num_classes, global_pool, include_root_block=True, reuse=reuse, scope=scope)"
   ]
  },
  {
   "cell_type": "code",
   "execution_count": 10,
   "metadata": {},
   "outputs": [],
   "source": [
    "# 101层的ResNet\n",
    "def resnet_v2_101(inputs,\n",
    "                 num_classes=None,\n",
    "                 global_pool=True,\n",
    "                 reuse=None,\n",
    "                 scope='resnet_v2_101'):\n",
    "    blocks = [\n",
    "        Block('block1', bottleneck, [(256, 64, 1)] * 2 + [(256, 64, 2)]),\n",
    "        Block('block2', bottleneck, [(512, 128, 1)] * 3 + [(512, 128, 2)]),\n",
    "        Block('block3', bottleneck, [(1024, 256, 1)] * 22 + [(1024, 256, 2)]),\n",
    "        Block('block4', bottleneck, [(2048, 512, 1)] * 3)]\n",
    "    return resnet_v2(inputs, blocks, num_classes, global_pool, include_root_block=True, reuse=reuse, scope=scope)"
   ]
  },
  {
   "cell_type": "code",
   "execution_count": 11,
   "metadata": {},
   "outputs": [],
   "source": [
    "# 152层的ResNet\n",
    "def resnet_v2_152(inputs,\n",
    "                 num_classes=None,\n",
    "                 global_pool=True,\n",
    "                 reuse=None,\n",
    "                 scope='resnet_v2_152'):\n",
    "    blocks = [\n",
    "        Block('block1', bottleneck, [(256, 64, 1)] * 2 + [(256, 64, 2)]),\n",
    "        Block('block2', bottleneck, [(512, 128, 1)] * 7 + [(512, 128, 2)]),\n",
    "        Block('block3', bottleneck, [(1024, 256, 1)] * 35 + [(1024, 256, 2)]),\n",
    "        Block('block4', bottleneck, [(2048, 512, 1)] * 3)]\n",
    "    return resnet_v2(inputs, blocks, num_classes, global_pool, include_root_block=True, reuse=reuse, scope=scope)"
   ]
  },
  {
   "cell_type": "code",
   "execution_count": 12,
   "metadata": {},
   "outputs": [],
   "source": [
    "# 200层的ResNet\n",
    "def resnet_v2_200(inputs,\n",
    "                 num_classes=None,\n",
    "                 global_pool=True,\n",
    "                 reuse=None,\n",
    "                 scope='resnet_v2_200'):\n",
    "    blocks = [\n",
    "        Block('block1', bottleneck, [(256, 64, 1)] * 2 + [(256, 64, 2)]),\n",
    "        Block('block2', bottleneck, [(512, 128, 1)] * 23 + [(512, 128, 2)]),\n",
    "        Block('block3', bottleneck, [(1024, 256, 1)] * 35 + [(1024, 256, 2)]),\n",
    "        Block('block4', bottleneck, [(2048, 512, 1)] * 3)]\n",
    "    return resnet_v2(inputs, blocks, num_classes, global_pool, include_root_block=True, reuse=reuse, scope=scope)"
   ]
  },
  {
   "cell_type": "code",
   "execution_count": 13,
   "metadata": {},
   "outputs": [],
   "source": [
    "########评估AlexNet每轮计算时间########\n",
    "def time_tensorflow_run(session, target, info_string):\n",
    "\n",
    "  # Args:\n",
    "  # session:the TensorFlow session to run the computation under.\n",
    "  # target:需要评测的运算算子。\n",
    "  # info_string:测试名称。\n",
    "\n",
    "  num_steps_burn_in = 10 # 先定义预热轮数（头几轮跌代有显存加载、cache命中等问题因此可以跳过，只考量10轮迭代之后的计算时间）\n",
    "  total_duration = 0.0 # 记录总时间\n",
    "  total_duration_squared = 0.0 # 总时间平方和  -----用来后面计算方差\n",
    "  for i in xrange(num_batches + num_steps_burn_in): # 迭代轮数\n",
    "    start_time = time.time() # 记录时间\n",
    "    _ = session.run(target) # 每次迭代通过session.run(target)\n",
    "    duration = time.time() - start_time # \n",
    "    if i >= num_steps_burn_in: \n",
    "      if not i % 10:\n",
    "        print ('%s: step %d, duration = %.3f' %\n",
    "               (datetime.now(), i - num_steps_burn_in, duration))\n",
    "      total_duration += duration  # 累加便于后面计算每轮耗时的均值和标准差\n",
    "      total_duration_squared += duration * duration\n",
    "  mn = total_duration / num_batches # 每轮迭代的平均耗时\n",
    "  vr = total_duration_squared / num_batches - mn * mn \n",
    "  sd = math.sqrt(vr) # 标准差\n",
    "  print ('%s: %s across %d steps, %.3f +/- %.3f sec / batch' %\n",
    "         (datetime.now(), info_string, num_batches, mn, sd))\n",
    "# def time_tensorflow_run(session, target, feed, info_string):\n",
    "#     num_steps_burn_in = 10\n",
    "#     total_duration = 0.0\n",
    "#     total_duration_squared = 0.0\n",
    "#     for i in range(num_batches + num_steps_burn_in):\n",
    "#         start_time = time.time()\n",
    "#         _ = session.run(target, feed_dict=feed)\n",
    "#         duration = time.time() - start_time\n",
    "#         if i >= num_steps_burn_in:\n",
    "#             if not i % 10:\n",
    "#                 print('%s: step %d, duration = %.3f' % (datetime.now(), i - num_steps_burn_in, duration))\n",
    "#             total_duration += duration\n",
    "#             total_duration_squared += duration * duration\n",
    "#     mn = total_duration / num_batches\n",
    "#     vr = total_duration_squared / num_batches - mn * mn\n",
    "#     sd = math.sqrt(vr)\n",
    "#     print('%s: %s across %d steps, %.3f +/- %.3f sec / batch' % (datetime.now(), info_string, num_batches, mn, sd))"
   ]
  },
  {
   "cell_type": "code",
   "execution_count": 14,
   "metadata": {},
   "outputs": [
    {
     "name": "stdout",
     "output_type": "stream",
     "text": [
      "2018-01-24 11:21:41.596177: step 0, duration = 8.393\n",
      "2018-01-24 11:23:03.366670: step 10, duration = 7.935\n",
      "2018-01-24 11:24:22.538827: step 20, duration = 7.743\n",
      "2018-01-24 11:25:43.957974: step 30, duration = 7.896\n",
      "2018-01-24 11:27:02.377901: step 40, duration = 7.672\n",
      "2018-01-24 11:28:21.328688: step 50, duration = 7.843\n",
      "2018-01-24 11:29:43.798111: step 60, duration = 8.072\n",
      "2018-01-24 11:31:02.902517: step 70, duration = 7.819\n",
      "2018-01-24 11:32:37.481710: step 80, duration = 14.014\n",
      "2018-01-24 11:34:22.542961: step 90, duration = 10.577\n",
      "2018-01-24 11:35:45.186778: Forward across 100 steps, 8.520 +/- 1.178 sec / batch\n"
     ]
    }
   ],
   "source": [
    "batch_size = 32\n",
    "height, width = 224, 224\n",
    "inputs = tf.random_uniform((batch_size, height, width, 3))\n",
    "with slim.arg_scope(resnet_arg_scope(is_training=False)):\n",
    "    net, end_points = resnet_v2_152(inputs, 1000)\n",
    "init = tf.global_variables_initializer()\n",
    "session = tf.Session()\n",
    "session.run(init)\n",
    "num_batches = 100\n",
    "time_tensorflow_run(session, net, \"Forward\")"
   ]
  },
  {
   "cell_type": "code",
   "execution_count": 15,
   "metadata": {},
   "outputs": [
    {
     "name": "stdout",
     "output_type": "stream",
     "text": [
      "Help on function last_dimension in module tensorflow.contrib.layers.python.layers.utils:\n",
      "\n",
      "last_dimension(shape, min_rank=1)\n",
      "    Returns the last dimension of shape while checking it has min_rank.\n",
      "    \n",
      "    Args:\n",
      "      shape: A `TensorShape`.\n",
      "      min_rank: Integer, minimum rank of shape.\n",
      "    \n",
      "    Returns:\n",
      "      The value of the last dimension.\n",
      "    \n",
      "    Raises:\n",
      "      ValueError: if inputs don't have at least min_rank dimensions, or if the\n",
      "        last dimension value is not defined.\n",
      "\n"
     ]
    }
   ],
   "source": [
    "help(slim.utils.last_dimension)"
   ]
  },
  {
   "cell_type": "code",
   "execution_count": null,
   "metadata": {},
   "outputs": [],
   "source": []
  }
 ],
 "metadata": {
  "kernelspec": {
   "display_name": "Python 2",
   "language": "python",
   "name": "python2"
  },
  "language_info": {
   "codemirror_mode": {
    "name": "ipython",
    "version": 2
   },
   "file_extension": ".py",
   "mimetype": "text/x-python",
   "name": "python",
   "nbconvert_exporter": "python",
   "pygments_lexer": "ipython2",
   "version": "2.7.13"
  }
 },
 "nbformat": 4,
 "nbformat_minor": 2
}
