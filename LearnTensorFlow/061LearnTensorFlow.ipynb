{
 "cells": [
  {
   "cell_type": "markdown",
   "metadata": {},
   "source": [
    "# TensorFlow实现AlexNet"
   ]
  },
  {
   "cell_type": "code",
   "execution_count": 1,
   "metadata": {},
   "outputs": [],
   "source": [
    "# -*- coding: utf-8 -*-\n",
    "# author: JiRuiqing\n",
    "# email: ruiqing0706@gmail.com\n",
    "\n",
    "# 导包\n",
    "from datetime import datetime\n",
    "import math\n",
    "import time\n",
    "import tensorflow as tf"
   ]
  },
  {
   "cell_type": "code",
   "execution_count": 2,
   "metadata": {},
   "outputs": [],
   "source": [
    "# 设定batch大小和数量\n",
    "batch_size = 32\n",
    "num_batches = 100"
   ]
  },
  {
   "cell_type": "code",
   "execution_count": 3,
   "metadata": {},
   "outputs": [],
   "source": [
    "# print卷积层或池化层输出tensor的尺寸\n",
    "def print_activations(t):\n",
    "    print(t.op.name, '', t.get_shape().as_list())"
   ]
  },
  {
   "cell_type": "code",
   "execution_count": 4,
   "metadata": {},
   "outputs": [],
   "source": [
    "# \n",
    "def inference(images):\n",
    "    parameters = []\n",
    "    \n",
    "    # 第一层\n",
    "    with tf.name_scope('conv1') as scope:\n",
    "        kernel = tf.Variable(tf.truncated_normal([11, 11, 3, 64], dtype=tf.float32, stddev=1e-1), name='weights')\n",
    "        conv = tf.nn.conv2d(images, kernel, [1, 4, 4, 1], padding='SAME')\n",
    "        biases = tf.Variable(tf.constant(0.0, shape=[64], dtype=tf.float32), trainable=True, name='biases')\n",
    "        bias = tf.nn.bias_add(conv, biases)\n",
    "        conv1 = tf.nn.relu(bias, name=scope)\n",
    "        parameters += [kernel, biases]\n",
    "        print_activations(conv1)\n",
    "    # 在第1个卷积层后再添加LRN层和最大池化层。\n",
    "    lrn1 = tf.nn.lrn(conv1, 4, bias=1.0, alpha=0.001/9, beta=0.75, name='lrn1')\n",
    "    pool1 = tf.nn.max_pool(lrn1, ksize=[1, 3, 3, 1], strides=[1, 2, 2, 1], padding='VALID', name='pool1')\n",
    "    # 打印输出结果pool1的结构\n",
    "    print_activations(pool1)\n",
    "    \n",
    "    # 第二层\n",
    "    with tf.name_scope('conv2') as scope:\n",
    "        kernel = tf.Variable(tf.truncated_normal([5, 5, 64, 192], dtype=tf.float32, stddev=1e-1), name='weights')\n",
    "        conv = tf.nn.conv2d(pool1, kernel, [1, 1, 1, 1], padding='SAME')\n",
    "        biases = tf.Variable(tf.constant(0.0, shape=[192], dtype=tf.float32), trainable=True, name='biases')\n",
    "        bias = tf.nn.bias_add(conv, biases)\n",
    "        conv2 = tf.nn.relu(bias, name=scope)\n",
    "        parameters += [kernel, biases]\n",
    "        print_activations(conv2)\n",
    "    # 在第2个卷积层后再添加LRN层和最大池化层。\n",
    "    lrn2 = tf.nn.lrn(conv2, 4, bias=1.0, alpha=0.001/9, beta=0.75, name='lrn2')\n",
    "    pool2 = tf.nn.max_pool(lrn2, ksize=[1, 3, 3, 1], strides=[1, 2, 2, 1], padding='VALID', name='pool2')\n",
    "    # 打印输出结果pool2的结构\n",
    "    print_activations(pool2)\n",
    "    \n",
    "    # 第三层\n",
    "    with tf.name_scope('conv3') as scope:\n",
    "        kernel = tf.Variable(tf.truncated_normal([3, 3, 192, 384], dtype=tf.float32, stddev=1e-1), name='weights')\n",
    "        conv = tf.nn.conv2d(pool2, kernel, [1, 1, 1, 1], padding='SAME')\n",
    "        biases = tf.Variable(tf.constant(0.0, shape=[384], dtype=tf.float32), trainable=True, name='biases')\n",
    "        bias = tf.nn.bias_add(conv, biases)\n",
    "        conv3 = tf.nn.relu(bias, name=scope)\n",
    "        parameters += [kernel, biases]\n",
    "        print_activations(conv3)\n",
    "    \n",
    "    # 第四层\n",
    "    with tf.name_scope('conv4') as scope:\n",
    "        kernel = tf.Variable(tf.truncated_normal([3, 3, 384, 256], dtype=tf.float32, stddev=1e-1), name='weights')\n",
    "        conv = tf.nn.conv2d(conv3, kernel, [1, 1, 1, 1], padding='SAME')\n",
    "        biases = tf.Variable(tf.constant(0.0, shape=[256], dtype=tf.float32), trainable=True, name='biases')\n",
    "        bias = tf.nn.bias_add(conv, biases)\n",
    "        conv4 = tf.nn.relu(bias, name=scope)\n",
    "        parameters += [kernel, biases]\n",
    "        print_activations(conv4)\n",
    "        \n",
    "    # 第五层\n",
    "    with tf.name_scope('conv5') as scope:\n",
    "        kernel = tf.Variable(tf.truncated_normal([3, 3, 256, 256], dtype=tf.float32, stddev=1e-1), name='weights')\n",
    "        conv = tf.nn.conv2d(conv4, kernel, [1, 1, 1, 1], padding='SAME')\n",
    "        biases = tf.Variable(tf.constant(0.0, shape=[256], dtype=tf.float32), trainable=True, name='biases')\n",
    "        bias = tf.nn.bias_add(conv, biases)\n",
    "        conv5 = tf.nn.relu(bias, name=scope)\n",
    "        parameters += [kernel, biases]\n",
    "        print_activations(conv5)\n",
    "    # 在第5个卷积层后再添加最大池化层。\n",
    "    pool5 = tf.nn.max_pool(conv5, ksize=[1, 3, 3, 1], strides=[1, 2, 2, 1], padding='VALID', name='pool5')\n",
    "    # 打印输出结果pool2的结构\n",
    "    print_activations(pool5)\n",
    "    \n",
    "    return pool5, parameters"
   ]
  },
  {
   "cell_type": "code",
   "execution_count": 5,
   "metadata": {},
   "outputs": [],
   "source": [
    "# 评估AlexNet每轮计算时间的函数\n",
    "def time_tensorflow_run(session, target, info_string):\n",
    "    num_steps_burn_in = 10\n",
    "    total_duration = 0.0\n",
    "    total_duration_squared = 0.0\n",
    "    \n",
    "    for i in range(num_batches + num_steps_burn_in):\n",
    "        start_time = time.time()\n",
    "        _ = session.run(target)\n",
    "        duration = time.time() - start_time\n",
    "        if i >= num_steps_burn_in:\n",
    "            if not i % 10:\n",
    "                print('%s: step %d, duration = %.3f' % (datetime.now(), i - num_steps_burn_in, duration))\n",
    "            total_duration += duration\n",
    "            total_duration_squared += duration * duration\n",
    "            \n",
    "    mn = total_duration / num_batches\n",
    "    vr = total_duration_squared / num_batches - mn * mn\n",
    "    sd = math.sqrt(vr)\n",
    "    print('%s: %s across %d steps, %.3f +/- %.3f sec / batch' % (datetime.now(), info_string, num_batches, mn, sd))"
   ]
  },
  {
   "cell_type": "code",
   "execution_count": 6,
   "metadata": {},
   "outputs": [],
   "source": [
    "def run_benchmark():\n",
    "    with tf.Graph().as_default():\n",
    "        image_size = 224\n",
    "        images = tf.Variable(tf.random_normal([batch_size, image_size, image_size, 3], dtype=tf.float32, stddev=1e-1))\n",
    "        \n",
    "        pool5, parameters = inference(images)\n",
    "        \n",
    "        init = tf.global_variables_initializer()\n",
    "        \n",
    "        # 这两个session有什么区别呢？\n",
    "#         session = tf.InteractiveSession()\n",
    "        session = tf.Session()\n",
    "        session.run(init)\n",
    "        \n",
    "        time_tensorflow_run(session, pool5, \"Forward\")\n",
    "        \n",
    "        objective = tf.nn.l2_loss(pool5)\n",
    "        grad = tf.gradients(objective, parameters)\n",
    "        time_tensorflow_run(session, grad, \"Forward-backward\")\n",
    "    "
   ]
  },
  {
   "cell_type": "code",
   "execution_count": 7,
   "metadata": {},
   "outputs": [
    {
     "name": "stdout",
     "output_type": "stream",
     "text": [
      "(u'conv1', '', [32, 56, 56, 64])\n",
      "(u'pool1', '', [32, 27, 27, 64])\n",
      "(u'conv2', '', [32, 27, 27, 192])\n",
      "(u'pool2', '', [32, 13, 13, 192])\n",
      "(u'conv3', '', [32, 13, 13, 384])\n",
      "(u'conv4', '', [32, 13, 13, 256])\n",
      "(u'conv5', '', [32, 13, 13, 256])\n",
      "(u'pool5', '', [32, 6, 6, 256])\n",
      "2018-01-19 13:49:21.473037: step 0, duration = 1.187\n",
      "2018-01-19 13:49:31.324412: step 10, duration = 1.068\n",
      "2018-01-19 13:49:39.905692: step 20, duration = 0.823\n",
      "2018-01-19 13:49:48.331390: step 30, duration = 0.815\n",
      "2018-01-19 13:49:56.598201: step 40, duration = 1.160\n",
      "2018-01-19 13:50:06.644615: step 50, duration = 0.961\n",
      "2018-01-19 13:50:15.607577: step 60, duration = 0.740\n",
      "2018-01-19 13:50:24.335431: step 70, duration = 0.907\n",
      "2018-01-19 13:50:32.334398: step 80, duration = 0.839\n",
      "2018-01-19 13:50:40.604938: step 90, duration = 0.745\n",
      "2018-01-19 13:50:47.665467: Forward across 100 steps, 0.874 +/- 0.145 sec / batch\n",
      "2018-01-19 13:51:16.219632: step 0, duration = 2.330\n",
      "2018-01-19 13:51:40.705367: step 10, duration = 2.338\n",
      "2018-01-19 13:52:04.443431: step 20, duration = 2.169\n",
      "2018-01-19 13:52:26.446691: step 30, duration = 2.106\n",
      "2018-01-19 13:52:47.942855: step 40, duration = 2.055\n",
      "2018-01-19 13:53:09.170695: step 50, duration = 2.091\n",
      "2018-01-19 13:53:34.833617: step 60, duration = 2.140\n",
      "2018-01-19 13:53:55.486213: step 70, duration = 2.060\n",
      "2018-01-19 13:54:15.862407: step 80, duration = 1.985\n",
      "2018-01-19 13:54:36.441624: step 90, duration = 2.016\n",
      "2018-01-19 13:55:03.775681: Forward-backward across 100 steps, 2.299 +/- 0.368 sec / batch\n"
     ]
    }
   ],
   "source": [
    "run_benchmark()"
   ]
  },
  {
   "cell_type": "code",
   "execution_count": 8,
   "metadata": {},
   "outputs": [],
   "source": [
    "# 训练时需要花费大量时间，做预测的效率还可以。"
   ]
  },
  {
   "cell_type": "code",
   "execution_count": null,
   "metadata": {},
   "outputs": [],
   "source": [
    "(u'conv1', '', [32, 56, 56, 64])\n",
    "(u'pool1', '', [32, 27, 27, 64])\n",
    "(u'conv2', '', [32, 27, 27, 192])\n",
    "(u'pool2', '', [32, 13, 13, 192])\n",
    "(u'conv3', '', [32, 13, 13, 384])\n",
    "(u'conv4', '', [32, 13, 13, 256])\n",
    "(u'conv5', '', [32, 13, 13, 256])\n",
    "(u'pool5', '', [32, 6, 6, 256])"
   ]
  },
  {
   "cell_type": "code",
   "execution_count": null,
   "metadata": {},
   "outputs": [],
   "source": [
    "(u'conv1_1', '', [32, 56, 56, 64])\n",
    "(u'conv1_1', '', [32, 56, 56, 64])\n",
    "(u'pool1', '', [32, 27, 27, 64])\n",
    "(u'conv2', '', [32, 27, 27, 192])\n",
    "(u'pool2', '', [32, 13, 13, 192])\n",
    "(u'conv3', '', [32, 13, 13, 384])\n",
    "(u'conv4', '', [32, 13, 13, 256])\n",
    "(u'conv5', '', [32, 13, 13, 256])\n",
    "(u'pool5', '', [32, 6, 6, 256])"
   ]
  }
 ],
 "metadata": {
  "kernelspec": {
   "display_name": "Python 2",
   "language": "python",
   "name": "python2"
  },
  "language_info": {
   "codemirror_mode": {
    "name": "ipython",
    "version": 2
   },
   "file_extension": ".py",
   "mimetype": "text/x-python",
   "name": "python",
   "nbconvert_exporter": "python",
   "pygments_lexer": "ipython2",
   "version": "2.7.13"
  }
 },
 "nbformat": 4,
 "nbformat_minor": 2
}
